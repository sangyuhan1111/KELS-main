{
 "cells": [
  {
   "cell_type": "code",
   "execution_count": 1,
   "metadata": {},
   "outputs": [],
   "source": [
    "import torch\n",
    "import pandas as pd\n",
    "import sklearn\n",
    "import numpy as np\n",
    "import torch.nn as nn\n",
    "import torch.nn.functional as F\n",
    "import torch.optim as optim\n",
    "from sklearn.model_selection import train_test_split\n",
    "from sklearn.preprocessing import StandardScaler, MinMaxScaler\n",
    "from tqdm import tqdm\n",
    "from torch.utils.data import Dataset,DataLoader\n",
    "from utils.nn_utils import *\n",
    "from models.ViT import ViT_LRP_nan_excluded\n",
    "\n",
    "X_datapaths = ['./preprocessed/prepared/nan/L2Y1.pkl','./preprocessed/prepared/nan/L2Y2.pkl','./preprocessed/prepared/nan/L2Y3.pkl','./preprocessed/prepared/nan/L2Y4.pkl','./preprocessed/prepared/nan/L2Y5.pkl','./preprocessed/prepared/nan/L2Y6.pkl',]\n",
    "label_datapath = './preprocessed/prepared/nan/label.pkl'\n",
    "#X_datapaths = ['./preprocessed/prepared/fill/L2Y1.pkl','./preprocessed/prepared/fill/L2Y2.pkl','./preprocessed/prepared/fill/L2Y3.pkl','./preprocessed/prepared/fill/L2Y4.pkl','./preprocessed/prepared/fill/L2Y5.pkl','./preprocessed/prepared/fill/L2Y6.pkl',]\n",
    "#label_datapath = './preprocessed/prepared/fill/label.pkl'\n",
    "device = torch.device(\"cuda:0\" if torch.cuda.is_available() else \"cpu\")\n",
    "\n",
    "\n",
    "\n",
    "# read pickle\n",
    "input_datas = [] # list of each input pandas dataframe\n",
    "for datapath in X_datapaths:\n",
    "    temp = pd.read_pickle(datapath)\n",
    "    temp = temp.reset_index()\n",
    "    input_datas.append(temp)\n",
    "\n",
    "label_data = pd.read_pickle(label_datapath)\n",
    "label_data = label_data.reset_index()\n",
    "\n",
    "\n",
    "\n",
    "seq_len = len(input_datas)\n",
    "\n",
    "label_data = label_data - 1\n",
    "\n",
    "\n",
    "CLS2IDX = {\n",
    "    0 : '1등급',\n",
    "    1 : '2등급',\n",
    "    2 : '3등급',\n",
    "    3 : '4등급',\n",
    "    4 : '5등급',\n",
    "    5 : '6등급',\n",
    "    6 : '7등급',\n",
    "    7 : '8등급',\n",
    "    8 : '9등급'\n",
    "}\n",
    "is_regression = False\n",
    "X_trains, X_tests, y_train, y_test = make_splited_data(input_datas,label_data,is_regression=is_regression)\n",
    "\n",
    "train_dataset = KELSDataSet(X_trains,y_train,is_regression=is_regression)\n",
    "test_dataset = KELSDataSet(X_tests,y_test,is_regression=is_regression)\n",
    "\n",
    "\n",
    "batch_size = 32\n",
    "hidden_features = 100\n",
    "embbed_dim = 72\n",
    "\n",
    "\n",
    "\n",
    "train_loader = DataLoader(train_dataset,batch_size=batch_size,shuffle=True)\n",
    "test_loader = DataLoader(test_dataset,batch_size=batch_size,shuffle=False)\n",
    "split_list = train_dataset.split_list\n",
    "#embedding_networks : 년차별로 맞는 mlp 리스트. 리스트 내용물에 따라 인풋 채널 개수 다름.\n",
    "\n",
    "sample_loader = DataLoader(train_dataset,batch_size=batch_size,shuffle=True)\n",
    "assert batch_size\n",
    "(sample,label) = next(iter(sample_loader))\n",
    "sample_datas = batch_to_splited_datas(sample,split_list)\n",
    "\n",
    "\n",
    "#embbeding_networks = make_embbeding_networks(sample_datas,batch_size=batch_size,hidden_features = hidden_features,out_features=embbed_dim)\n",
    "#embbeding network 사용법 : \n",
    "#1. train_loader에서 배치를 받는다. 이 배치는 (batch, 학생수, features)인데, features는 모든 년차별 feature가 concat된 상태.\n",
    "#2. 이 배치를 batch_to_splited_datas에 넣는다. datas = batch_to_splited_datas(배치,split_list)\n",
    "# 그러면 datas에 년차별 feature가 나누어진 리스트가 생기게 된다. 리스트 길이는 년차 길이고, 내용물은 행렬\n",
    "# 3. 이 datas를 batch_to_embbedings 에 넣는다. 그럼 각 행렬이 embbeding_networks에 든 mlp를 통과하여 같은 크기의 행렬들을 리턴한다. \n",
    "# emb_batch_list= batch_to_embbedings(datas,embbeding_networks)\n",
    "#4. emb_batch_list의 내용물이 바로 contrastive loss에 들어갈 벡터들이 된다. \n",
    "\n",
    "#5. lstm에 넣으려면 얘들을 seq_len 방향으로 쌓아야 한다. \n",
    "#emb_batched_seq = torch.stack(emb_batch_list).transpose(0,1) 으로 쌓고 lstm에 넣으면 완성..?"
   ]
  },
  {
   "cell_type": "code",
   "execution_count": 2,
   "metadata": {},
   "outputs": [],
   "source": [
    "def accuracy_roughly(y_pred, y_label):\n",
    "    if len(y_pred) != len(y_label):\n",
    "        print(\"not available, fit size first\")\n",
    "        return\n",
    "    cnt = 0\n",
    "    correct = 0\n",
    "    for pred, label in zip(y_pred, y_label):\n",
    "        cnt += 1\n",
    "        if abs(pred-label) <= 1:\n",
    "            correct += 1\n",
    "    return correct / cnt"
   ]
  },
  {
   "cell_type": "code",
   "execution_count": 9,
   "metadata": {},
   "outputs": [],
   "source": [
    "def train_net(model,train_loader,test_loader,optimizer_cls = optim.AdamW, criterion = nn.CrossEntropyLoss(),\n",
    "n_iter=10,device='cpu',lr = 0.001,weight_decay = 0.01,mode = None):\n",
    "        \n",
    "        train_losses = []\n",
    "        train_acc = []\n",
    "        val_acc = []\n",
    "        #optimizer = optimizer_cls(model.parameters(),lr=lr,weight_decay=weight_decay)\n",
    "        optimizer = optimizer_cls(model.parameters(),lr=lr)\n",
    "        #scheduler = optim.lr_scheduler.MultiStepLR(optimizer,milestones=[25,40,60,80], gamma=0.5,last_epoch=-1)\n",
    "        \n",
    "\n",
    "        for epoch in range(n_iter):\n",
    "                running_loss = 0.0\n",
    "                model.train()\n",
    "                n = 0\n",
    "                n_acc = 0\n",
    "                for i,(xx,(label_E,label_K,label_M)) in tqdm(enumerate(train_loader)):\n",
    "\n",
    "                \n",
    "                \n",
    "                        xx = xx.to(device)\n",
    "                        if mode == 'E':\n",
    "                                yy = label_E\n",
    "                        elif mode == 'K':\n",
    "                                yy = label_K\n",
    "                        elif mode == 'M':\n",
    "                                yy = label_M\n",
    "                        else:\n",
    "                                assert True\n",
    "                        \n",
    "                        yy = yy.to(device)\n",
    "                        \n",
    "\n",
    "                        \n",
    "                        \n",
    "                \n",
    "                        optimizer.zero_grad()\n",
    "                        outputs = model(xx)\n",
    "\n",
    "                        # Calculate Loss: softmax --> cross entropy loss\n",
    "                        loss = criterion(outputs, yy)\n",
    "\n",
    "\n",
    "                        # Getting gradients w.r.t. parameters\n",
    "                        loss.backward()\n",
    "\n",
    "                        # Updating parameters\n",
    "                        optimizer.step()\n",
    "                        \n",
    "                        \n",
    "                        \n",
    "                        i += 1\n",
    "                        n += len(xx)\n",
    "                        _, y_pred = outputs.max(1)\n",
    "                        n_acc += (yy == y_pred).float().sum().item()\n",
    "                #scheduler.step()\n",
    "                train_losses.append(running_loss/i)\n",
    "                train_acc.append(n_acc/n)\n",
    "\n",
    "                val_acc.append(eval_net(model,test_loader,device,mode = mode))\n",
    "\n",
    "                print(f'epoch : {epoch}, train_acc : {train_acc[-1]}, validation_acc : {val_acc[-1]}',flush = True)"
   ]
  },
  {
   "cell_type": "code",
   "execution_count": 12,
   "metadata": {},
   "outputs": [],
   "source": [
    "def eval_net(model,data_loader,device,mode=None):\n",
    "    model.eval()\n",
    "    ys = []\n",
    "    ypreds = []\n",
    "    for xx,(label_E,label_K,label_M) in data_loader:\n",
    "\n",
    "                \n",
    "                \n",
    "        xx = xx.to(device)\n",
    "        if mode == 'E':\n",
    "            y = label_E\n",
    "        elif mode == 'K':\n",
    "            y = label_K\n",
    "        elif mode == 'M':\n",
    "            y = label_M\n",
    "        else:\n",
    "            assert True\n",
    "        \n",
    "        y = y.to(device)\n",
    "\n",
    "        with torch.no_grad():\n",
    "                score = model(xx)\n",
    "                _,y_pred = score.max(1)\n",
    "        ys.append(y)\n",
    "        ypreds.append(y_pred)\n",
    "\n",
    "    ys = torch.cat(ys)\n",
    "    ypreds = torch.cat(ypreds)\n",
    "    acc = accuracy_roughly(ypreds,ys)\n",
    "    #acc= (ys == ypreds).float().sum() / len(ys)\n",
    "\n",
    "    # print(sklearn.metrics.confusion_matrix(ys.numpy(),ypreds.numpy()))\n",
    "\n",
    "\n",
    "    # print(sklearn.metrics.classification_report(ys.numpy(),ypreds.numpy()))\n",
    "    \n",
    "\n",
    "    return acc\n",
    "    #return acc.item()"
   ]
  },
  {
   "cell_type": "code",
   "execution_count": null,
   "metadata": {},
   "outputs": [],
   "source": [
    "model_E = ViT_LRP_nan_excluded.VisionTransformer(sample_datas,split_list,seq_len=6, num_classes=9, embed_dim=16*3, depth=8,\n",
    "                 num_heads=6, mlp_ratio=4., qkv_bias=False, mlp_head=False, drop_rate=0.2, attn_drop_rate=0.2)\n",
    "model_E = model_E.to(device)\n",
    "\n",
    "train_net(model_E,train_loader,test_loader,n_iter=100,device=device,mode='E',lr=0.0001,optimizer_cls = optim.AdamW)\n"
   ]
  },
  {
   "cell_type": "code",
   "execution_count": 13,
   "metadata": {},
   "outputs": [
    {
     "name": "stderr",
     "output_type": "stream",
     "text": [
      "131it [00:09, 14.07it/s]\n"
     ]
    },
    {
     "name": "stdout",
     "output_type": "stream",
     "text": [
      "epoch : 0, train_acc : 0.21272509003601442, validation_acc : 0.527831094049904\n"
     ]
    },
    {
     "name": "stderr",
     "output_type": "stream",
     "text": [
      "131it [00:09, 14.13it/s]\n"
     ]
    },
    {
     "name": "stdout",
     "output_type": "stream",
     "text": [
      "epoch : 1, train_acc : 0.25618247298919566, validation_acc : 0.6564299424184261\n"
     ]
    },
    {
     "name": "stderr",
     "output_type": "stream",
     "text": [
      "131it [00:09, 14.12it/s]\n"
     ]
    },
    {
     "name": "stdout",
     "output_type": "stream",
     "text": [
      "epoch : 2, train_acc : 0.3106842737094838, validation_acc : 0.6813819577735125\n"
     ]
    },
    {
     "name": "stderr",
     "output_type": "stream",
     "text": [
      "131it [00:09, 14.14it/s]\n"
     ]
    },
    {
     "name": "stdout",
     "output_type": "stream",
     "text": [
      "epoch : 3, train_acc : 0.3176470588235294, validation_acc : 0.6919385796545106\n"
     ]
    },
    {
     "name": "stderr",
     "output_type": "stream",
     "text": [
      "131it [00:09, 13.95it/s]\n"
     ]
    },
    {
     "name": "stdout",
     "output_type": "stream",
     "text": [
      "epoch : 4, train_acc : 0.32821128451380555, validation_acc : 0.7428023032629558\n"
     ]
    },
    {
     "name": "stderr",
     "output_type": "stream",
     "text": [
      "131it [00:09, 13.87it/s]\n"
     ]
    },
    {
     "name": "stdout",
     "output_type": "stream",
     "text": [
      "epoch : 5, train_acc : 0.33733493397358943, validation_acc : 0.7197696737044146\n"
     ]
    },
    {
     "name": "stderr",
     "output_type": "stream",
     "text": [
      "131it [00:09, 14.16it/s]\n"
     ]
    },
    {
     "name": "stdout",
     "output_type": "stream",
     "text": [
      "epoch : 6, train_acc : 0.3404561824729892, validation_acc : 0.6986564299424184\n"
     ]
    },
    {
     "name": "stderr",
     "output_type": "stream",
     "text": [
      "131it [00:09, 14.25it/s]\n"
     ]
    },
    {
     "name": "stdout",
     "output_type": "stream",
     "text": [
      "epoch : 7, train_acc : 0.33997599039615845, validation_acc : 0.7303262955854126\n"
     ]
    },
    {
     "name": "stderr",
     "output_type": "stream",
     "text": [
      "131it [00:09, 14.19it/s]\n"
     ]
    },
    {
     "name": "stdout",
     "output_type": "stream",
     "text": [
      "epoch : 8, train_acc : 0.34549819927971187, validation_acc : 0.7226487523992322\n"
     ]
    },
    {
     "name": "stderr",
     "output_type": "stream",
     "text": [
      "131it [00:09, 14.24it/s]\n"
     ]
    },
    {
     "name": "stdout",
     "output_type": "stream",
     "text": [
      "epoch : 9, train_acc : 0.3498199279711885, validation_acc : 0.7216890595009597\n"
     ]
    },
    {
     "name": "stderr",
     "output_type": "stream",
     "text": [
      "131it [00:09, 14.24it/s]\n"
     ]
    },
    {
     "name": "stdout",
     "output_type": "stream",
     "text": [
      "epoch : 10, train_acc : 0.356062424969988, validation_acc : 0.72552783109405\n"
     ]
    },
    {
     "name": "stderr",
     "output_type": "stream",
     "text": [
      "131it [00:09, 14.23it/s]\n"
     ]
    },
    {
     "name": "stdout",
     "output_type": "stream",
     "text": [
      "epoch : 11, train_acc : 0.3596638655462185, validation_acc : 0.7389635316698656\n"
     ]
    },
    {
     "name": "stderr",
     "output_type": "stream",
     "text": [
      "131it [00:09, 14.24it/s]\n"
     ]
    },
    {
     "name": "stdout",
     "output_type": "stream",
     "text": [
      "epoch : 12, train_acc : 0.36134453781512604, validation_acc : 0.7428023032629558\n"
     ]
    },
    {
     "name": "stderr",
     "output_type": "stream",
     "text": [
      "131it [00:09, 14.28it/s]\n"
     ]
    },
    {
     "name": "stdout",
     "output_type": "stream",
     "text": [
      "epoch : 13, train_acc : 0.3551020408163265, validation_acc : 0.6813819577735125\n"
     ]
    },
    {
     "name": "stderr",
     "output_type": "stream",
     "text": [
      "131it [00:09, 14.24it/s]\n"
     ]
    },
    {
     "name": "stdout",
     "output_type": "stream",
     "text": [
      "epoch : 14, train_acc : 0.35222088835534215, validation_acc : 0.7303262955854126\n"
     ]
    },
    {
     "name": "stderr",
     "output_type": "stream",
     "text": [
      "131it [00:09, 14.25it/s]\n"
     ]
    },
    {
     "name": "stdout",
     "output_type": "stream",
     "text": [
      "epoch : 15, train_acc : 0.36062424969987994, validation_acc : 0.7245681381957774\n"
     ]
    },
    {
     "name": "stderr",
     "output_type": "stream",
     "text": [
      "131it [00:09, 14.25it/s]\n"
     ]
    },
    {
     "name": "stdout",
     "output_type": "stream",
     "text": [
      "epoch : 16, train_acc : 0.36494597839135656, validation_acc : 0.7418426103646834\n"
     ]
    },
    {
     "name": "stderr",
     "output_type": "stream",
     "text": [
      "131it [00:09, 14.10it/s]\n"
     ]
    },
    {
     "name": "stdout",
     "output_type": "stream",
     "text": [
      "epoch : 17, train_acc : 0.37623049219687876, validation_acc : 0.7293666026871402\n"
     ]
    },
    {
     "name": "stderr",
     "output_type": "stream",
     "text": [
      "131it [00:09, 14.18it/s]\n"
     ]
    },
    {
     "name": "stdout",
     "output_type": "stream",
     "text": [
      "epoch : 18, train_acc : 0.37478991596638656, validation_acc : 0.7408829174664108\n"
     ]
    },
    {
     "name": "stderr",
     "output_type": "stream",
     "text": [
      "131it [00:09, 14.22it/s]\n"
     ]
    },
    {
     "name": "stdout",
     "output_type": "stream",
     "text": [
      "epoch : 19, train_acc : 0.36542617046818726, validation_acc : 0.7543186180422264\n"
     ]
    },
    {
     "name": "stderr",
     "output_type": "stream",
     "text": [
      "131it [00:09, 14.20it/s]\n"
     ]
    },
    {
     "name": "stdout",
     "output_type": "stream",
     "text": [
      "epoch : 20, train_acc : 0.37671068427370946, validation_acc : 0.7437619961612284\n"
     ]
    },
    {
     "name": "stderr",
     "output_type": "stream",
     "text": [
      "131it [00:09, 14.17it/s]\n"
     ]
    },
    {
     "name": "stdout",
     "output_type": "stream",
     "text": [
      "epoch : 21, train_acc : 0.3702280912364946, validation_acc : 0.7399232245681382\n"
     ]
    },
    {
     "name": "stderr",
     "output_type": "stream",
     "text": [
      "131it [00:09, 14.21it/s]\n"
     ]
    },
    {
     "name": "stdout",
     "output_type": "stream",
     "text": [
      "epoch : 22, train_acc : 0.37695078031212487, validation_acc : 0.7571976967370442\n"
     ]
    },
    {
     "name": "stderr",
     "output_type": "stream",
     "text": [
      "131it [00:09, 14.19it/s]\n"
     ]
    },
    {
     "name": "stdout",
     "output_type": "stream",
     "text": [
      "epoch : 23, train_acc : 0.37286914765906365, validation_acc : 0.6900191938579654\n"
     ]
    },
    {
     "name": "stderr",
     "output_type": "stream",
     "text": [
      "131it [00:09, 14.19it/s]\n"
     ]
    },
    {
     "name": "stdout",
     "output_type": "stream",
     "text": [
      "epoch : 24, train_acc : 0.3831932773109244, validation_acc : 0.7428023032629558\n"
     ]
    },
    {
     "name": "stderr",
     "output_type": "stream",
     "text": [
      "131it [00:09, 14.18it/s]\n"
     ]
    },
    {
     "name": "stdout",
     "output_type": "stream",
     "text": [
      "epoch : 25, train_acc : 0.37478991596638656, validation_acc : 0.755278310940499\n"
     ]
    },
    {
     "name": "stderr",
     "output_type": "stream",
     "text": [
      "131it [00:09, 14.19it/s]\n"
     ]
    },
    {
     "name": "stdout",
     "output_type": "stream",
     "text": [
      "epoch : 26, train_acc : 0.3798319327731092, validation_acc : 0.7456813819577736\n"
     ]
    },
    {
     "name": "stderr",
     "output_type": "stream",
     "text": [
      "131it [00:09, 14.18it/s]\n"
     ]
    },
    {
     "name": "stdout",
     "output_type": "stream",
     "text": [
      "epoch : 27, train_acc : 0.37551020408163266, validation_acc : 0.7514395393474088\n"
     ]
    },
    {
     "name": "stderr",
     "output_type": "stream",
     "text": [
      "131it [00:09, 14.03it/s]\n"
     ]
    },
    {
     "name": "stdout",
     "output_type": "stream",
     "text": [
      "epoch : 28, train_acc : 0.37743097238895557, validation_acc : 0.736084452975048\n"
     ]
    },
    {
     "name": "stderr",
     "output_type": "stream",
     "text": [
      "131it [00:09, 14.19it/s]\n"
     ]
    },
    {
     "name": "stdout",
     "output_type": "stream",
     "text": [
      "epoch : 29, train_acc : 0.3788715486194478, validation_acc : 0.708253358925144\n"
     ]
    },
    {
     "name": "stderr",
     "output_type": "stream",
     "text": [
      "131it [00:09, 14.20it/s]\n"
     ]
    },
    {
     "name": "stdout",
     "output_type": "stream",
     "text": [
      "epoch : 30, train_acc : 0.38127250900360143, validation_acc : 0.736084452975048\n"
     ]
    },
    {
     "name": "stderr",
     "output_type": "stream",
     "text": [
      "131it [00:09, 14.19it/s]\n"
     ]
    },
    {
     "name": "stdout",
     "output_type": "stream",
     "text": [
      "epoch : 31, train_acc : 0.3899159663865546, validation_acc : 0.7456813819577736\n"
     ]
    },
    {
     "name": "stderr",
     "output_type": "stream",
     "text": [
      "131it [00:09, 14.21it/s]\n"
     ]
    },
    {
     "name": "stdout",
     "output_type": "stream",
     "text": [
      "epoch : 32, train_acc : 0.3870348139255702, validation_acc : 0.7178502879078695\n"
     ]
    },
    {
     "name": "stderr",
     "output_type": "stream",
     "text": [
      "131it [00:09, 14.21it/s]\n"
     ]
    },
    {
     "name": "stdout",
     "output_type": "stream",
     "text": [
      "epoch : 33, train_acc : 0.38559423769507806, validation_acc : 0.7629558541266794\n"
     ]
    },
    {
     "name": "stderr",
     "output_type": "stream",
     "text": [
      "131it [00:09, 14.19it/s]\n"
     ]
    },
    {
     "name": "stdout",
     "output_type": "stream",
     "text": [
      "epoch : 34, train_acc : 0.38487394957983195, validation_acc : 0.7293666026871402\n"
     ]
    },
    {
     "name": "stderr",
     "output_type": "stream",
     "text": [
      "131it [00:09, 14.18it/s]\n"
     ]
    },
    {
     "name": "stdout",
     "output_type": "stream",
     "text": [
      "epoch : 35, train_acc : 0.3884753901560624, validation_acc : 0.7264875239923224\n"
     ]
    },
    {
     "name": "stderr",
     "output_type": "stream",
     "text": [
      "131it [00:09, 14.21it/s]\n"
     ]
    },
    {
     "name": "stdout",
     "output_type": "stream",
     "text": [
      "epoch : 36, train_acc : 0.40336134453781514, validation_acc : 0.7562380038387716\n"
     ]
    },
    {
     "name": "stderr",
     "output_type": "stream",
     "text": [
      "131it [00:09, 14.20it/s]\n"
     ]
    },
    {
     "name": "stdout",
     "output_type": "stream",
     "text": [
      "epoch : 37, train_acc : 0.3870348139255702, validation_acc : 0.753358925143954\n"
     ]
    },
    {
     "name": "stderr",
     "output_type": "stream",
     "text": [
      "131it [00:09, 13.96it/s]\n"
     ]
    },
    {
     "name": "stdout",
     "output_type": "stream",
     "text": [
      "epoch : 38, train_acc : 0.3851140456182473, validation_acc : 0.7437619961612284\n"
     ]
    },
    {
     "name": "stderr",
     "output_type": "stream",
     "text": [
      "131it [00:09, 14.18it/s]\n"
     ]
    },
    {
     "name": "stdout",
     "output_type": "stream",
     "text": [
      "epoch : 39, train_acc : 0.3983193277310924, validation_acc : 0.7341650671785028\n"
     ]
    },
    {
     "name": "stderr",
     "output_type": "stream",
     "text": [
      "131it [00:09, 14.20it/s]\n"
     ]
    },
    {
     "name": "stdout",
     "output_type": "stream",
     "text": [
      "epoch : 40, train_acc : 0.40024009603841537, validation_acc : 0.7370441458733206\n"
     ]
    },
    {
     "name": "stderr",
     "output_type": "stream",
     "text": [
      "131it [00:09, 14.19it/s]\n"
     ]
    },
    {
     "name": "stdout",
     "output_type": "stream",
     "text": [
      "epoch : 41, train_acc : 0.3911164465786314, validation_acc : 0.7236084452975048\n"
     ]
    },
    {
     "name": "stderr",
     "output_type": "stream",
     "text": [
      "131it [00:09, 14.17it/s]\n"
     ]
    },
    {
     "name": "stdout",
     "output_type": "stream",
     "text": [
      "epoch : 42, train_acc : 0.4050420168067227, validation_acc : 0.7197696737044146\n"
     ]
    },
    {
     "name": "stderr",
     "output_type": "stream",
     "text": [
      "131it [00:09, 14.20it/s]\n"
     ]
    },
    {
     "name": "stdout",
     "output_type": "stream",
     "text": [
      "epoch : 43, train_acc : 0.4007202881152461, validation_acc : 0.7504798464491362\n"
     ]
    },
    {
     "name": "stderr",
     "output_type": "stream",
     "text": [
      "131it [00:09, 14.22it/s]\n"
     ]
    },
    {
     "name": "stdout",
     "output_type": "stream",
     "text": [
      "epoch : 44, train_acc : 0.4069627851140456, validation_acc : 0.7370441458733206\n"
     ]
    },
    {
     "name": "stderr",
     "output_type": "stream",
     "text": [
      "131it [00:09, 14.19it/s]\n"
     ]
    },
    {
     "name": "stdout",
     "output_type": "stream",
     "text": [
      "epoch : 45, train_acc : 0.40888355342136856, validation_acc : 0.7322456813819578\n"
     ]
    },
    {
     "name": "stderr",
     "output_type": "stream",
     "text": [
      "131it [00:09, 14.19it/s]\n"
     ]
    },
    {
     "name": "stdout",
     "output_type": "stream",
     "text": [
      "epoch : 46, train_acc : 0.4105642256902761, validation_acc : 0.763915547024952\n"
     ]
    },
    {
     "name": "stderr",
     "output_type": "stream",
     "text": [
      "131it [00:09, 14.19it/s]\n"
     ]
    },
    {
     "name": "stdout",
     "output_type": "stream",
     "text": [
      "epoch : 47, train_acc : 0.3937575030012005, validation_acc : 0.7485604606525912\n"
     ]
    },
    {
     "name": "stderr",
     "output_type": "stream",
     "text": [
      "131it [00:09, 14.20it/s]\n"
     ]
    },
    {
     "name": "stdout",
     "output_type": "stream",
     "text": [
      "epoch : 48, train_acc : 0.40408163265306124, validation_acc : 0.7332053742802304\n"
     ]
    },
    {
     "name": "stderr",
     "output_type": "stream",
     "text": [
      "131it [00:09, 14.20it/s]\n"
     ]
    },
    {
     "name": "stdout",
     "output_type": "stream",
     "text": [
      "epoch : 49, train_acc : 0.4141656662665066, validation_acc : 0.7696737044145874\n"
     ]
    },
    {
     "name": "stderr",
     "output_type": "stream",
     "text": [
      "131it [00:09, 14.19it/s]\n"
     ]
    },
    {
     "name": "stdout",
     "output_type": "stream",
     "text": [
      "epoch : 50, train_acc : 0.42400960384153663, validation_acc : 0.7581573896353166\n"
     ]
    },
    {
     "name": "stderr",
     "output_type": "stream",
     "text": [
      "131it [00:09, 14.18it/s]\n"
     ]
    },
    {
     "name": "stdout",
     "output_type": "stream",
     "text": [
      "epoch : 51, train_acc : 0.40960384153661467, validation_acc : 0.746641074856046\n"
     ]
    },
    {
     "name": "stderr",
     "output_type": "stream",
     "text": [
      "131it [00:09, 14.20it/s]\n"
     ]
    },
    {
     "name": "stdout",
     "output_type": "stream",
     "text": [
      "epoch : 52, train_acc : 0.4156062424969988, validation_acc : 0.746641074856046\n"
     ]
    },
    {
     "name": "stderr",
     "output_type": "stream",
     "text": [
      "131it [00:09, 14.19it/s]\n"
     ]
    },
    {
     "name": "stdout",
     "output_type": "stream",
     "text": [
      "epoch : 53, train_acc : 0.40888355342136856, validation_acc : 0.736084452975048\n"
     ]
    },
    {
     "name": "stderr",
     "output_type": "stream",
     "text": [
      "131it [00:09, 14.01it/s]\n"
     ]
    },
    {
     "name": "stdout",
     "output_type": "stream",
     "text": [
      "epoch : 54, train_acc : 0.4112845138055222, validation_acc : 0.7149712092130518\n"
     ]
    },
    {
     "name": "stderr",
     "output_type": "stream",
     "text": [
      "131it [00:09, 14.21it/s]\n"
     ]
    },
    {
     "name": "stdout",
     "output_type": "stream",
     "text": [
      "epoch : 55, train_acc : 0.4283313325330132, validation_acc : 0.7264875239923224\n"
     ]
    },
    {
     "name": "stderr",
     "output_type": "stream",
     "text": [
      "131it [00:09, 14.18it/s]\n"
     ]
    },
    {
     "name": "stdout",
     "output_type": "stream",
     "text": [
      "epoch : 56, train_acc : 0.42208883553421367, validation_acc : 0.7245681381957774\n"
     ]
    },
    {
     "name": "stderr",
     "output_type": "stream",
     "text": [
      "131it [00:09, 14.21it/s]\n"
     ]
    },
    {
     "name": "stdout",
     "output_type": "stream",
     "text": [
      "epoch : 57, train_acc : 0.42016806722689076, validation_acc : 0.7399232245681382\n"
     ]
    },
    {
     "name": "stderr",
     "output_type": "stream",
     "text": [
      "131it [00:09, 14.18it/s]\n"
     ]
    },
    {
     "name": "stdout",
     "output_type": "stream",
     "text": [
      "epoch : 58, train_acc : 0.42208883553421367, validation_acc : 0.7216890595009597\n"
     ]
    },
    {
     "name": "stderr",
     "output_type": "stream",
     "text": [
      "131it [00:09, 14.19it/s]\n"
     ]
    },
    {
     "name": "stdout",
     "output_type": "stream",
     "text": [
      "epoch : 59, train_acc : 0.42545018007202884, validation_acc : 0.7571976967370442\n"
     ]
    },
    {
     "name": "stderr",
     "output_type": "stream",
     "text": [
      "131it [00:09, 14.21it/s]\n"
     ]
    },
    {
     "name": "stdout",
     "output_type": "stream",
     "text": [
      "epoch : 60, train_acc : 0.43025210084033616, validation_acc : 0.736084452975048\n"
     ]
    },
    {
     "name": "stderr",
     "output_type": "stream",
     "text": [
      "131it [00:09, 14.20it/s]\n"
     ]
    },
    {
     "name": "stdout",
     "output_type": "stream",
     "text": [
      "epoch : 61, train_acc : 0.4261704681872749, validation_acc : 0.7677543186180422\n"
     ]
    },
    {
     "name": "stderr",
     "output_type": "stream",
     "text": [
      "131it [00:09, 14.20it/s]\n"
     ]
    },
    {
     "name": "stdout",
     "output_type": "stream",
     "text": [
      "epoch : 62, train_acc : 0.42208883553421367, validation_acc : 0.7197696737044146\n"
     ]
    },
    {
     "name": "stderr",
     "output_type": "stream",
     "text": [
      "131it [00:09, 14.21it/s]\n"
     ]
    },
    {
     "name": "stdout",
     "output_type": "stream",
     "text": [
      "epoch : 63, train_acc : 0.4391356542617047, validation_acc : 0.7485604606525912\n"
     ]
    },
    {
     "name": "stderr",
     "output_type": "stream",
     "text": [
      "131it [00:09, 14.20it/s]\n"
     ]
    },
    {
     "name": "stdout",
     "output_type": "stream",
     "text": [
      "epoch : 64, train_acc : 0.43649459783913563, validation_acc : 0.7571976967370442\n"
     ]
    },
    {
     "name": "stderr",
     "output_type": "stream",
     "text": [
      "131it [00:09, 14.22it/s]\n"
     ]
    },
    {
     "name": "stdout",
     "output_type": "stream",
     "text": [
      "epoch : 65, train_acc : 0.4326530612244898, validation_acc : 0.7514395393474088\n"
     ]
    },
    {
     "name": "stderr",
     "output_type": "stream",
     "text": [
      "131it [00:09, 14.18it/s]\n"
     ]
    },
    {
     "name": "stdout",
     "output_type": "stream",
     "text": [
      "epoch : 66, train_acc : 0.4261704681872749, validation_acc : 0.7408829174664108\n"
     ]
    },
    {
     "name": "stderr",
     "output_type": "stream",
     "text": [
      "131it [00:09, 13.99it/s]\n"
     ]
    },
    {
     "name": "stdout",
     "output_type": "stream",
     "text": [
      "epoch : 67, train_acc : 0.43673469387755104, validation_acc : 0.7399232245681382\n"
     ]
    },
    {
     "name": "stderr",
     "output_type": "stream",
     "text": [
      "131it [00:09, 14.15it/s]\n"
     ]
    },
    {
     "name": "stdout",
     "output_type": "stream",
     "text": [
      "epoch : 68, train_acc : 0.42448979591836733, validation_acc : 0.7284069097888676\n"
     ]
    },
    {
     "name": "stderr",
     "output_type": "stream",
     "text": [
      "131it [00:09, 14.17it/s]\n"
     ]
    },
    {
     "name": "stdout",
     "output_type": "stream",
     "text": [
      "epoch : 69, train_acc : 0.4391356542617047, validation_acc : 0.7514395393474088\n"
     ]
    },
    {
     "name": "stderr",
     "output_type": "stream",
     "text": [
      "131it [00:09, 14.20it/s]\n"
     ]
    },
    {
     "name": "stdout",
     "output_type": "stream",
     "text": [
      "epoch : 70, train_acc : 0.4429771908763505, validation_acc : 0.7504798464491362\n"
     ]
    },
    {
     "name": "stderr",
     "output_type": "stream",
     "text": [
      "131it [00:09, 14.12it/s]\n"
     ]
    },
    {
     "name": "stdout",
     "output_type": "stream",
     "text": [
      "epoch : 71, train_acc : 0.4456182472989196, validation_acc : 0.7476007677543186\n"
     ]
    },
    {
     "name": "stderr",
     "output_type": "stream",
     "text": [
      "131it [00:09, 13.62it/s]\n"
     ]
    },
    {
     "name": "stdout",
     "output_type": "stream",
     "text": [
      "epoch : 72, train_acc : 0.44657863145258103, validation_acc : 0.7399232245681382\n"
     ]
    },
    {
     "name": "stderr",
     "output_type": "stream",
     "text": [
      "131it [00:09, 14.09it/s]\n"
     ]
    },
    {
     "name": "stdout",
     "output_type": "stream",
     "text": [
      "epoch : 73, train_acc : 0.44537815126050423, validation_acc : 0.7303262955854126\n"
     ]
    },
    {
     "name": "stderr",
     "output_type": "stream",
     "text": [
      "131it [00:09, 14.21it/s]\n"
     ]
    },
    {
     "name": "stdout",
     "output_type": "stream",
     "text": [
      "epoch : 74, train_acc : 0.4410564225690276, validation_acc : 0.7408829174664108\n"
     ]
    },
    {
     "name": "stderr",
     "output_type": "stream",
     "text": [
      "131it [00:09, 14.24it/s]\n"
     ]
    },
    {
     "name": "stdout",
     "output_type": "stream",
     "text": [
      "epoch : 75, train_acc : 0.4417767106842737, validation_acc : 0.746641074856046\n"
     ]
    },
    {
     "name": "stderr",
     "output_type": "stream",
     "text": [
      "131it [00:09, 14.17it/s]\n"
     ]
    },
    {
     "name": "stdout",
     "output_type": "stream",
     "text": [
      "epoch : 76, train_acc : 0.45138055222088835, validation_acc : 0.7562380038387716\n"
     ]
    },
    {
     "name": "stderr",
     "output_type": "stream",
     "text": [
      "131it [00:09, 14.04it/s]\n"
     ]
    },
    {
     "name": "stdout",
     "output_type": "stream",
     "text": [
      "epoch : 77, train_acc : 0.45546218487394957, validation_acc : 0.7408829174664108\n"
     ]
    },
    {
     "name": "stderr",
     "output_type": "stream",
     "text": [
      "131it [00:09, 14.25it/s]\n"
     ]
    },
    {
     "name": "stdout",
     "output_type": "stream",
     "text": [
      "epoch : 78, train_acc : 0.4523409363745498, validation_acc : 0.761996161228407\n"
     ]
    },
    {
     "name": "stderr",
     "output_type": "stream",
     "text": [
      "131it [00:09, 14.14it/s]\n"
     ]
    },
    {
     "name": "stdout",
     "output_type": "stream",
     "text": [
      "epoch : 79, train_acc : 0.45930372148859544, validation_acc : 0.736084452975048\n"
     ]
    },
    {
     "name": "stderr",
     "output_type": "stream",
     "text": [
      "131it [00:09, 14.25it/s]\n"
     ]
    },
    {
     "name": "stdout",
     "output_type": "stream",
     "text": [
      "epoch : 80, train_acc : 0.4451380552220888, validation_acc : 0.7456813819577736\n"
     ]
    },
    {
     "name": "stderr",
     "output_type": "stream",
     "text": [
      "131it [00:09, 14.26it/s]\n"
     ]
    },
    {
     "name": "stdout",
     "output_type": "stream",
     "text": [
      "epoch : 81, train_acc : 0.458343337334934, validation_acc : 0.7504798464491362\n"
     ]
    },
    {
     "name": "stderr",
     "output_type": "stream",
     "text": [
      "131it [00:09, 14.08it/s]\n"
     ]
    },
    {
     "name": "stdout",
     "output_type": "stream",
     "text": [
      "epoch : 82, train_acc : 0.4530612244897959, validation_acc : 0.7399232245681382\n"
     ]
    },
    {
     "name": "stderr",
     "output_type": "stream",
     "text": [
      "131it [00:09, 14.06it/s]\n"
     ]
    },
    {
     "name": "stdout",
     "output_type": "stream",
     "text": [
      "epoch : 83, train_acc : 0.4645858343337335, validation_acc : 0.7610364683301344\n"
     ]
    },
    {
     "name": "stderr",
     "output_type": "stream",
     "text": [
      "131it [00:09, 14.25it/s]\n"
     ]
    },
    {
     "name": "stdout",
     "output_type": "stream",
     "text": [
      "epoch : 84, train_acc : 0.4595438175270108, validation_acc : 0.7437619961612284\n"
     ]
    },
    {
     "name": "stderr",
     "output_type": "stream",
     "text": [
      "131it [00:09, 14.24it/s]\n"
     ]
    },
    {
     "name": "stdout",
     "output_type": "stream",
     "text": [
      "epoch : 85, train_acc : 0.4590636254501801, validation_acc : 0.7303262955854126\n"
     ]
    },
    {
     "name": "stderr",
     "output_type": "stream",
     "text": [
      "131it [00:09, 14.24it/s]\n"
     ]
    },
    {
     "name": "stdout",
     "output_type": "stream",
     "text": [
      "epoch : 86, train_acc : 0.46146458583433375, validation_acc : 0.736084452975048\n"
     ]
    },
    {
     "name": "stderr",
     "output_type": "stream",
     "text": [
      "131it [00:09, 14.09it/s]\n"
     ]
    },
    {
     "name": "stdout",
     "output_type": "stream",
     "text": [
      "epoch : 87, train_acc : 0.4696278511404562, validation_acc : 0.7437619961612284\n"
     ]
    },
    {
     "name": "stderr",
     "output_type": "stream",
     "text": [
      "131it [00:09, 14.26it/s]\n"
     ]
    },
    {
     "name": "stdout",
     "output_type": "stream",
     "text": [
      "epoch : 88, train_acc : 0.46914765906362543, validation_acc : 0.7332053742802304\n"
     ]
    },
    {
     "name": "stderr",
     "output_type": "stream",
     "text": [
      "131it [00:09, 14.25it/s]\n"
     ]
    },
    {
     "name": "stdout",
     "output_type": "stream",
     "text": [
      "epoch : 89, train_acc : 0.4696278511404562, validation_acc : 0.7389635316698656\n"
     ]
    },
    {
     "name": "stderr",
     "output_type": "stream",
     "text": [
      "131it [00:09, 14.26it/s]\n"
     ]
    },
    {
     "name": "stdout",
     "output_type": "stream",
     "text": [
      "epoch : 90, train_acc : 0.4816326530612245, validation_acc : 0.7428023032629558\n"
     ]
    },
    {
     "name": "stderr",
     "output_type": "stream",
     "text": [
      "131it [00:09, 14.25it/s]\n"
     ]
    },
    {
     "name": "stdout",
     "output_type": "stream",
     "text": [
      "epoch : 91, train_acc : 0.4801920768307323, validation_acc : 0.7562380038387716\n"
     ]
    },
    {
     "name": "stderr",
     "output_type": "stream",
     "text": [
      "131it [00:09, 14.26it/s]\n"
     ]
    },
    {
     "name": "stdout",
     "output_type": "stream",
     "text": [
      "epoch : 92, train_acc : 0.46482593037214887, validation_acc : 0.718809980806142\n"
     ]
    },
    {
     "name": "stderr",
     "output_type": "stream",
     "text": [
      "131it [00:09, 14.22it/s]\n"
     ]
    },
    {
     "name": "stdout",
     "output_type": "stream",
     "text": [
      "epoch : 93, train_acc : 0.4773109243697479, validation_acc : 0.7485604606525912\n"
     ]
    },
    {
     "name": "stderr",
     "output_type": "stream",
     "text": [
      "131it [00:09, 14.24it/s]\n"
     ]
    },
    {
     "name": "stdout",
     "output_type": "stream",
     "text": [
      "epoch : 94, train_acc : 0.4669867947178872, validation_acc : 0.7495201535508638\n"
     ]
    },
    {
     "name": "stderr",
     "output_type": "stream",
     "text": [
      "131it [00:09, 14.25it/s]\n"
     ]
    },
    {
     "name": "stdout",
     "output_type": "stream",
     "text": [
      "epoch : 95, train_acc : 0.48403361344537815, validation_acc : 0.7389635316698656\n"
     ]
    },
    {
     "name": "stderr",
     "output_type": "stream",
     "text": [
      "131it [00:09, 14.07it/s]\n"
     ]
    },
    {
     "name": "stdout",
     "output_type": "stream",
     "text": [
      "epoch : 96, train_acc : 0.48187274909963984, validation_acc : 0.7485604606525912\n"
     ]
    },
    {
     "name": "stderr",
     "output_type": "stream",
     "text": [
      "131it [00:09, 14.23it/s]\n"
     ]
    },
    {
     "name": "stdout",
     "output_type": "stream",
     "text": [
      "epoch : 97, train_acc : 0.4929171668667467, validation_acc : 0.7351247600767754\n"
     ]
    },
    {
     "name": "stderr",
     "output_type": "stream",
     "text": [
      "131it [00:09, 14.22it/s]\n"
     ]
    },
    {
     "name": "stdout",
     "output_type": "stream",
     "text": [
      "epoch : 98, train_acc : 0.49123649459783914, validation_acc : 0.7581573896353166\n"
     ]
    },
    {
     "name": "stderr",
     "output_type": "stream",
     "text": [
      "131it [00:09, 14.21it/s]\n"
     ]
    },
    {
     "name": "stdout",
     "output_type": "stream",
     "text": [
      "epoch : 99, train_acc : 0.48259303721488594, validation_acc : 0.755278310940499\n"
     ]
    }
   ],
   "source": [
    "model_K = ViT_LRP_nan_excluded.VisionTransformer(sample_datas,split_list,seq_len=6, num_classes=9, embed_dim=16*3, depth=8,\n",
    "                 num_heads=6, mlp_ratio=4., qkv_bias=False, mlp_head=False, drop_rate=0.2, attn_drop_rate=0.2)\n",
    "model_K = model_K.to(device)\n",
    "\n",
    "train_net(model_K,train_loader,test_loader,n_iter=100,device=device,mode='K',lr=0.0001,optimizer_cls = optim.AdamW)\n"
   ]
  },
  {
   "cell_type": "code",
   "execution_count": 10,
   "metadata": {},
   "outputs": [],
   "source": [
    "xx,(label_E,label_K,label_M) = next(iter(train_loader))"
   ]
  },
  {
   "cell_type": "code",
   "execution_count": 46,
   "metadata": {},
   "outputs": [],
   "source": [
    "class MLP(nn.Module):\n",
    "    def __init__(self):\n",
    "        super().__init__()\n",
    "        self.mlp = nn.Sequential(\n",
    "            nn.Linear(233,80),\n",
    "            nn.ReLU(),\n",
    "            nn.Linear(80,30),\n",
    "            nn.ReLU(),\n",
    "            nn.Linear(30,9)\n",
    "        )\n",
    "    def forward(self,x):\n",
    "        x[torch.isnan(x)] = 0\n",
    "        return self.mlp(x)"
   ]
  },
  {
   "cell_type": "code",
   "execution_count": 47,
   "metadata": {},
   "outputs": [],
   "source": [
    "MLP = MLP()"
   ]
  },
  {
   "cell_type": "code",
   "execution_count": 11,
   "metadata": {},
   "outputs": [
    {
     "ename": "NameError",
     "evalue": "name 'MLP' is not defined",
     "output_type": "error",
     "traceback": [
      "\u001b[0;31m---------------------------------------------------------------------------\u001b[0m",
      "\u001b[0;31mNameError\u001b[0m                                 Traceback (most recent call last)",
      "\u001b[0;32m/var/folders/5w/ftdjr53s4wdbntzkf32v2hl80000gn/T/ipykernel_4908/1081753038.py\u001b[0m in \u001b[0;36m<module>\u001b[0;34m\u001b[0m\n\u001b[0;32m----> 1\u001b[0;31m \u001b[0mtrain_net\u001b[0m\u001b[0;34m(\u001b[0m\u001b[0mMLP\u001b[0m\u001b[0;34m,\u001b[0m\u001b[0mtrain_loader\u001b[0m\u001b[0;34m,\u001b[0m\u001b[0mtest_loader\u001b[0m\u001b[0;34m,\u001b[0m\u001b[0mn_iter\u001b[0m\u001b[0;34m=\u001b[0m\u001b[0;36m100\u001b[0m\u001b[0;34m,\u001b[0m\u001b[0mdevice\u001b[0m\u001b[0;34m=\u001b[0m\u001b[0mdevice\u001b[0m\u001b[0;34m,\u001b[0m\u001b[0mmode\u001b[0m\u001b[0;34m=\u001b[0m\u001b[0;34m'E'\u001b[0m\u001b[0;34m,\u001b[0m\u001b[0mlr\u001b[0m\u001b[0;34m=\u001b[0m\u001b[0;36m0.0001\u001b[0m\u001b[0;34m)\u001b[0m\u001b[0;34m\u001b[0m\u001b[0;34m\u001b[0m\u001b[0m\n\u001b[0m",
      "\u001b[0;31mNameError\u001b[0m: name 'MLP' is not defined"
     ]
    }
   ],
   "source": [
    "train_net(MLP,train_loader,test_loader,n_iter=100,device=device,mode='E',lr=0.0001)"
   ]
  },
  {
   "cell_type": "code",
   "execution_count": null,
   "metadata": {},
   "outputs": [],
   "source": [
    "model_E = ViT_LRP_copy.VisionTransformer(seq_len=6, num_classes=9, embed_dim=72, depth=8,\n",
    "                 num_heads=6, mlp_ratio=4., qkv_bias=False, mlp_head=False, drop_rate=0.1, attn_drop_rate=0.1)\n",
    "model_K = ViT_LRP_copy.VisionTransformer(seq_len=6, num_classes=9, embed_dim=72, depth=8,\n",
    "                 num_heads=6, mlp_ratio=4., qkv_bias=False, mlp_head=False, drop_rate=0.1, attn_drop_rate=0.1)\n",
    "model_M = ViT_LRP_copy.VisionTransformer(seq_len=6, num_classes=9, embed_dim=72, depth=8,\n",
    "                 num_heads=6, mlp_ratio=4., qkv_bias=False, mlp_head=False, drop_rate=0.1, attn_drop_rate=0.1)                 \n",
    "for concated_data,(label_E,label_K,label_M) in train_loader:\n",
    "    datas = batch_to_splited_datas(concated_data,split_list)\n",
    "    emb_batch_list= batch_to_embbedings(datas,embbeding_networks) # can be used for contrastive loss\n",
    "    # emb_batch_list : 임베딩 벡터들의 리스트. 얘를 이제 batch x seq x feature 행렬로 쌓음\n",
    "    emb_batched_seq = torch.stack(emb_batch_list).transpose(0,1)\n",
    "    attn_mask = make_attn_mask(emb_batched_seq)\n",
    "    (E_score,K_score,M_score) = model_E(emb_batched_seq,attn_mask),model_K(emb_batched_seq,attn_mask),model_M(emb_batched_seq,attn_mask)\n",
    "    \n",
    "\n",
    "\n",
    "\n",
    "criterion = nn.CrossEntropyLoss()\n",
    "\n",
    "loss_E = criterion(E_score,label_E)\n",
    "loss_K = criterion(K_score,label_K)\n",
    "loss_M = criterion(M_score,label_M)"
   ]
  },
  {
   "cell_type": "code",
   "execution_count": null,
   "metadata": {},
   "outputs": [],
   "source": []
  },
  {
   "cell_type": "code",
   "execution_count": null,
   "metadata": {},
   "outputs": [],
   "source": []
  }
 ],
 "metadata": {
  "interpreter": {
   "hash": "ef200163ac0f4291da233fe0d4efaa9bca84b8d4b04fcfb449644928c6966e7d"
  },
  "kernelspec": {
   "display_name": "Python 3.9.7 64-bit ('python_3.9': conda)",
   "name": "python3"
  },
  "language_info": {
   "codemirror_mode": {
    "name": "ipython",
    "version": 3
   },
   "file_extension": ".py",
   "mimetype": "text/x-python",
   "name": "python",
   "nbconvert_exporter": "python",
   "pygments_lexer": "ipython3",
   "version": "3.9.7"
  },
  "orig_nbformat": 4
 },
 "nbformat": 4,
 "nbformat_minor": 2
}
